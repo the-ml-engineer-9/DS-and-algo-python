{
 "cells": [
  {
   "cell_type": "markdown",
   "id": "9af19fb7",
   "metadata": {},
   "source": [
    "01. Data Structures"
   ]
  },
  {
   "cell_type": "markdown",
   "id": "f05ded73",
   "metadata": {},
   "source": [
    "- Arrays"
   ]
  },
  {
   "cell_type": "code",
   "execution_count": 1,
   "id": "b17f431a",
   "metadata": {},
   "outputs": [],
   "source": [
    "arr1 = [20, 45, 27, 47, 55, 67, 75, 88, 90]"
   ]
  },
  {
   "cell_type": "markdown",
   "id": "23a0de8d",
   "metadata": {},
   "source": [
    "Q: In a given array arr1, find the index of \"67\"."
   ]
  },
  {
   "cell_type": "code",
   "execution_count": 6,
   "id": "b05088d9",
   "metadata": {},
   "outputs": [
    {
     "name": "stdout",
     "output_type": "stream",
     "text": [
      "value is not found in given array\n",
      "value is not found in given array\n",
      "value is not found in given array\n",
      "value is not found in given array\n",
      "value is not found in given array\n",
      "5\n",
      "value is not found in given array\n",
      "value is not found in given array\n",
      "value is not found in given array\n"
     ]
    }
   ],
   "source": [
    "n = 67\n",
    "\n",
    "for i in range(0, len(arr1)):\n",
    "    if arr1[i] == n:\n",
    "        print(i)\n",
    "    else:\n",
    "        print(\"value is not found in given array\")"
   ]
  },
  {
   "cell_type": "code",
   "execution_count": null,
   "id": "2e898771",
   "metadata": {},
   "outputs": [],
   "source": []
  }
 ],
 "metadata": {
  "kernelspec": {
   "display_name": "Python 3 (ipykernel)",
   "language": "python",
   "name": "python3"
  },
  "language_info": {
   "codemirror_mode": {
    "name": "ipython",
    "version": 3
   },
   "file_extension": ".py",
   "mimetype": "text/x-python",
   "name": "python",
   "nbconvert_exporter": "python",
   "pygments_lexer": "ipython3",
   "version": "3.9.0"
  }
 },
 "nbformat": 4,
 "nbformat_minor": 5
}
