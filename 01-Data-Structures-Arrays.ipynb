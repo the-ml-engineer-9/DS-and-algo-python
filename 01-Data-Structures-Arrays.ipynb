{
 "cells": [
  {
   "cell_type": "markdown",
   "id": "8906f2db",
   "metadata": {},
   "source": [
    "01. Data Structures"
   ]
  },
  {
   "cell_type": "markdown",
   "id": "a56d8e6d",
   "metadata": {},
   "source": [
    "- Arrays"
   ]
  },
  {
   "cell_type": "markdown",
   "id": "23558d2c",
   "metadata": {},
   "source": [
    "1. Linear search in an array"
   ]
  },
  {
   "cell_type": "code",
   "execution_count": 1,
   "id": "6dbe8a16",
   "metadata": {},
   "outputs": [],
   "source": [
    "arr1 = [20, 45, 27, 47, 55, 67, 75, 88, 90]"
   ]
  },
  {
   "cell_type": "markdown",
   "id": "3b4341a8",
   "metadata": {},
   "source": [
    "Q: In a given array arr1, find the index of \"67\"."
   ]
  },
  {
   "cell_type": "code",
   "execution_count": 10,
   "id": "b0c215ff",
   "metadata": {},
   "outputs": [
    {
     "name": "stdout",
     "output_type": "stream",
     "text": [
      "The value is present at index 5\n"
     ]
    }
   ],
   "source": [
    "# function definition\n",
    "def LinearSearch(arr, x):\n",
    "    for i in range(0, len(arr)):\n",
    "        if arr[i] == x:\n",
    "            return i\n",
    "    return -1\n",
    "\n",
    "# Driver Code\n",
    "arr1 = [20, 45, 27, 47, 55, 67, 75, 88, 90]\n",
    "x = 67\n",
    "\n",
    "# Function call\n",
    "reLinearSearch(arr1, x)"
   ]
  },
  {
   "cell_type": "code",
   "execution_count": 9,
   "id": "22e29892",
   "metadata": {},
   "outputs": [],
   "source": []
  },
  {
   "cell_type": "code",
   "execution_count": null,
   "id": "a47fa037",
   "metadata": {},
   "outputs": [],
   "source": []
  }
 ],
 "metadata": {
  "kernelspec": {
   "display_name": "Python 3 (ipykernel)",
   "language": "python",
   "name": "python3"
  },
  "language_info": {
   "codemirror_mode": {
    "name": "ipython",
    "version": 3
   },
   "file_extension": ".py",
   "mimetype": "text/x-python",
   "name": "python",
   "nbconvert_exporter": "python",
   "pygments_lexer": "ipython3",
   "version": "3.9.0"
  }
 },
 "nbformat": 4,
 "nbformat_minor": 5
}
