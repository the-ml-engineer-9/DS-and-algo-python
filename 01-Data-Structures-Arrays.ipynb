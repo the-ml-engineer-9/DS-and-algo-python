{
 "cells": [
  {
   "cell_type": "markdown",
   "id": "d1041fdb",
   "metadata": {},
   "source": [
    "01. Data Structures"
   ]
  },
  {
   "cell_type": "markdown",
   "id": "4f583ad4",
   "metadata": {},
   "source": [
    "- Arrays"
   ]
  },
  {
   "cell_type": "markdown",
   "id": "b446513d",
   "metadata": {},
   "source": [
    "1. Linear search in an array"
   ]
  },
  {
   "cell_type": "code",
   "execution_count": 1,
   "id": "893bffcc",
   "metadata": {},
   "outputs": [],
   "source": [
    "arr1 = [20, 45, 27, 47, 55, 67, 75, 88, 90]"
   ]
  },
  {
   "cell_type": "markdown",
   "id": "5a36bc1f",
   "metadata": {},
   "source": [
    "Q: In a given array arr1, find the index of \"67\"."
   ]
  },
  {
   "cell_type": "code",
   "execution_count": 13,
   "id": "b89528ea",
   "metadata": {},
   "outputs": [
    {
     "name": "stdout",
     "output_type": "stream",
     "text": [
      "The element stored at position 5 in given array!\n"
     ]
    }
   ],
   "source": [
    "## Linear Search Algorithm\n",
    "# function definition\n",
    "# time complexity T(n) = O(n)\n",
    "# Space complexity S(n) = O(1)\n",
    "def LinearSearch(arr, x):\n",
    "    for i in range(0, len(arr)):\n",
    "        if arr[i] == x:\n",
    "            return i\n",
    "    return -1\n",
    "\n",
    "# Driver Code\n",
    "arr1 = [20, 45, 27, 47, 55, 67, 75, 88, 90]\n",
    "x = 67\n",
    "\n",
    "# Function call\n",
    "result = LinearSearch(arr1, x)\n",
    "print(f\"The element stored at position {result} in given array!\")"
   ]
  },
  {
   "cell_type": "markdown",
   "id": "ad190fcd",
   "metadata": {},
   "source": [
    "2. Binary Search in array"
   ]
  },
  {
   "cell_type": "code",
   "execution_count": 14,
   "id": "ea80e5ce",
   "metadata": {},
   "outputs": [
    {
     "name": "stdout",
     "output_type": "stream",
     "text": [
      "The element stored at position 6 in given array!\n"
     ]
    }
   ],
   "source": [
    "## Binary Search Algorithm with recursion\n",
    "# Function definition \n",
    "def BinarySearch(arr, x, i, j):\n",
    "    while i <= j:\n",
    "        mid = i + (j - 1)//2\n",
    "        if arr[mid] == x:\n",
    "            return mid\n",
    "        elif arr[mid] < x:\n",
    "            # right side of the mid\n",
    "            # search space : mid+1 to j\n",
    "            # recursion - calling same function again inside the \n",
    "            # method definition\n",
    "            return BinarySearch(arr, x, mid+1, j)\n",
    "        else:\n",
    "            # left side of the mid\n",
    "            # search space : i to mid-1\n",
    "            return BinarySearch(arr, x, i, mid-1)\n",
    "    return -1\n",
    "\n",
    "# Driver Code\n",
    "arr = [20, 30, 40, 50, 60, 70, 80, 90]\n",
    "x = 80\n",
    "\n",
    "i = 0\n",
    "j = len(arr) - 1\n",
    "\n",
    "result = BinarySearch(arr, x, i, j)\n",
    "print(f\"The element stored at position {result} in given array!\")"
   ]
  },
  {
   "cell_type": "code",
   "execution_count": 15,
   "id": "99c6604e",
   "metadata": {},
   "outputs": [
    {
     "name": "stdout",
     "output_type": "stream",
     "text": [
      "The element stored at position 6 in given array!\n"
     ]
    }
   ],
   "source": [
    "## Binary Search Algorithm without recursion\n",
    "# Function definition\n",
    "def BinarySearch(arr, x, i, j):\n",
    "    while i <= j:\n",
    "        mid = i + (j - 1)//2\n",
    "        if arr[mid] == x:\n",
    "            return mid\n",
    "        elif arr[mid] < x:\n",
    "            # right side of the mid\n",
    "            # search space : mid+1 to j\n",
    "            i = mid+1\n",
    "            # return BinarySearch(arr, x, mid+1, j)\n",
    "        else:\n",
    "            # left side of the mid\n",
    "            # search space : i to mid-1\n",
    "            j = mid - 1\n",
    "            # return BinarySearch(arr, x, i, mid-1)\n",
    "    return -1\n",
    "\n",
    "# Driver Code\n",
    "arr = [20, 30, 40, 50, 60, 70, 80, 90]\n",
    "x = 80\n",
    "\n",
    "i = 0\n",
    "j = len(arr) - 1\n",
    "\n",
    "result = BinarySearch(arr, x, i, j)\n",
    "print(f\"The element stored at position {result} in given array!\")"
   ]
  },
  {
   "cell_type": "markdown",
   "id": "a20c5d61",
   "metadata": {},
   "source": [
    "#### Questions based on binary & linear search on Arrays"
   ]
  },
  {
   "cell_type": "markdown",
   "id": "7d5a2bbb",
   "metadata": {},
   "source": [
    "Amazon question - find out the index of the 1st infinite in an array containing integers to start with and ending with infinites in the last.\n",
    "\n",
    "eg. arr = [2, 3, 5, 2, 21, -9, 6, 'inf', 'inf', 'inf', 'inf']\n",
    "\n",
    "variation 1 : the no. of elements in array is not known, it goes till infinite,\n",
    "\n",
    "eg. arr = [2, 3, 5, 2, 21, -9, 6, 'inf', 'inf', 'inf', 'inf', .... , 'inf']\n",
    "\n",
    "variation 2:\n",
    "\n",
    "arr = [20, 40, 60, 80, 90, 120, 240]\n",
    "\n",
    "find a pair of indexes, where sum of 2 arrays is equal to given target \n",
    "\n",
    "`a + b = 210, find a & b`"
   ]
  },
  {
   "cell_type": "code",
   "execution_count": null,
   "id": "fb1874fd",
   "metadata": {},
   "outputs": [],
   "source": []
  }
 ],
 "metadata": {
  "kernelspec": {
   "display_name": "Python 3 (ipykernel)",
   "language": "python",
   "name": "python3"
  },
  "language_info": {
   "codemirror_mode": {
    "name": "ipython",
    "version": 3
   },
   "file_extension": ".py",
   "mimetype": "text/x-python",
   "name": "python",
   "nbconvert_exporter": "python",
   "pygments_lexer": "ipython3",
   "version": "3.9.0"
  }
 },
 "nbformat": 4,
 "nbformat_minor": 5
}
