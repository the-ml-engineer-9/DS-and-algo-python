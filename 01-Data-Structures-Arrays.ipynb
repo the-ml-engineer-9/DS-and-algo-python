{
 "cells": [
  {
   "cell_type": "markdown",
   "id": "b77bb9ef",
   "metadata": {},
   "source": [
    "01. Data Structures"
   ]
  },
  {
   "cell_type": "markdown",
   "id": "396a0979",
   "metadata": {},
   "source": [
    "- Arrays"
   ]
  },
  {
   "cell_type": "markdown",
   "id": "f4ba2162",
   "metadata": {},
   "source": [
    "1. Linear search in an array"
   ]
  },
  {
   "cell_type": "code",
   "execution_count": 1,
   "id": "9db16ba0",
   "metadata": {},
   "outputs": [],
   "source": [
    "arr1 = [20, 45, 27, 47, 55, 67, 75, 88, 90]"
   ]
  },
  {
   "cell_type": "markdown",
   "id": "3b3aa925",
   "metadata": {},
   "source": [
    "Q: In a given array arr1, find the index of \"67\"."
   ]
  },
  {
   "cell_type": "code",
   "execution_count": 13,
   "id": "8b0c9021",
   "metadata": {},
   "outputs": [
    {
     "name": "stdout",
     "output_type": "stream",
     "text": [
      "The element stored at position 5 in given array!\n"
     ]
    }
   ],
   "source": [
    "## Linear Search Algorithm\n",
    "# function definition\n",
    "# time complexity T(n) = O(n)\n",
    "# Space complexity S(n) = O(1)\n",
    "def LinearSearch(arr, x):\n",
    "    for i in range(0, len(arr)):\n",
    "        if arr[i] == x:\n",
    "            return i\n",
    "    return -1\n",
    "\n",
    "# Driver Code\n",
    "arr1 = [20, 45, 27, 47, 55, 67, 75, 88, 90]\n",
    "x = 67\n",
    "\n",
    "# Function call\n",
    "result = LinearSearch(arr1, x)\n",
    "print(f\"The element stored at position {result} in given array!\")"
   ]
  },
  {
   "cell_type": "markdown",
   "id": "0adc2f10",
   "metadata": {},
   "source": [
    "2. Binary Search in array"
   ]
  },
  {
   "cell_type": "code",
   "execution_count": 14,
   "id": "3c1f6d49",
   "metadata": {},
   "outputs": [
    {
     "name": "stdout",
     "output_type": "stream",
     "text": [
      "The element stored at position 6 in given array!\n"
     ]
    }
   ],
   "source": [
    "## Binary Search Algorithm with recursion\n",
    "# Function definition \n",
    "def BinarySearch(arr, x, i, j):\n",
    "    while i <=j:\n",
    "        mid = i + (j - 1)//2\n",
    "        if arr[mid] == x:\n",
    "            return mid\n",
    "        elif arr[mid] < x:\n",
    "            # right side of the mid\n",
    "            # search space : mid+1 to j\n",
    "            # recursion - calling same function again inside the \n",
    "            # method definition\n",
    "            return BinarySearch(arr, x, mid+1, j)\n",
    "        else:\n",
    "            # left side of the mid\n",
    "            # search space : i to mid-1\n",
    "            return BinarySearch(arr, x, i, mid-1)\n",
    "    return -1\n",
    "\n",
    "# Driver Code\n",
    "arr = [20, 30, 40, 50, 60, 70, 80, 90]\n",
    "x = 80\n",
    "\n",
    "i = 0\n",
    "j = len(arr) - 1\n",
    "\n",
    "result = BinarySearch(arr, x, i, j)\n",
    "print(f\"The element stored at position {result} in given array!\")"
   ]
  },
  {
   "cell_type": "code",
   "execution_count": 15,
   "id": "e035672d",
   "metadata": {},
   "outputs": [
    {
     "name": "stdout",
     "output_type": "stream",
     "text": [
      "The element stored at position 6 in given array!\n"
     ]
    }
   ],
   "source": [
    "## Binary Search Algorithm without recursion\n",
    "# Function definition\n",
    "def BinarySearch(arr, x, i, j):\n",
    "    while i <=j:\n",
    "        mid = i + (j - 1)//2\n",
    "        if arr[mid] == x:\n",
    "            return mid\n",
    "        elif arr[mid] < x:\n",
    "            # right side of the mid\n",
    "            # search space : mid+1 to j\n",
    "            i = mid+1\n",
    "            # return BinarySearch(arr, x, mid+1, j)\n",
    "        else:\n",
    "            # left side of the mid\n",
    "            # search space : i to mid-1\n",
    "            j = mid - 1\n",
    "            # return BinarySearch(arr, x, i, mid-1)\n",
    "    return -1\n",
    "\n",
    "# Driver Code\n",
    "arr = [20, 30, 40, 50, 60, 70, 80, 90]\n",
    "x = 80\n",
    "\n",
    "i = 0\n",
    "j = len(arr) - 1\n",
    "\n",
    "result = BinarySearch(arr, x, i, j)\n",
    "print(f\"The element stored at position {result} in given array!\")"
   ]
  },
  {
   "cell_type": "code",
   "execution_count": null,
   "id": "d03abd76",
   "metadata": {},
   "outputs": [],
   "source": []
  }
 ],
 "metadata": {
  "kernelspec": {
   "display_name": "Python 3 (ipykernel)",
   "language": "python",
   "name": "python3"
  },
  "language_info": {
   "codemirror_mode": {
    "name": "ipython",
    "version": 3
   },
   "file_extension": ".py",
   "mimetype": "text/x-python",
   "name": "python",
   "nbconvert_exporter": "python",
   "pygments_lexer": "ipython3",
   "version": "3.9.0"
  }
 },
 "nbformat": 4,
 "nbformat_minor": 5
}
